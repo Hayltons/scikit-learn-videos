{
  "nbformat": 4,
  "nbformat_minor": 0,
  "metadata": {
    "kernelspec": {
      "display_name": "Python 3",
      "language": "python",
      "name": "python3"
    },
    "language_info": {
      "codemirror_mode": {
        "name": "ipython",
        "version": 3
      },
      "file_extension": ".py",
      "mimetype": "text/x-python",
      "name": "python",
      "nbconvert_exporter": "python",
      "pygments_lexer": "ipython3",
      "version": "3.6.5"
    },
    "colab": {
      "name": "04_model_training.ipynb",
      "provenance": [],
      "include_colab_link": true
    }
  },
  "cells": [
    {
      "cell_type": "markdown",
      "metadata": {
        "id": "view-in-github",
        "colab_type": "text"
      },
      "source": [
        "<a href=\"https://colab.research.google.com/github/Hayltons/scikit-learn-videos/blob/master/04_model_training_cristianopoeta.ipynb\" target=\"_parent\"><img src=\"https://colab.research.google.com/assets/colab-badge.svg\" alt=\"Open In Colab\"/></a>"
      ]
    },
    {
      "cell_type": "markdown",
      "metadata": {
        "id": "7qaneqz5ZTI-"
      },
      "source": [
        "# Training a machine learning model with scikit-learn ([video #4](https://www.youtube.com/watch?v=RlQuVL6-qe8&list=PL5-da3qGB5ICeMbQuqbbCOQWcS6OYBr5A&index=4))\n",
        "\n",
        "Created by [Data School](http://www.dataschool.io/). Watch all 9 videos on [YouTube](https://www.youtube.com/playlist?list=PL5-da3qGB5ICeMbQuqbbCOQWcS6OYBr5A). Download the notebooks from [GitHub](https://github.com/justmarkham/scikit-learn-videos).\n",
        "\n",
        "**Note:** This notebook uses Python 3.6 and scikit-learn 0.19.1. The original notebook (shown in the video) used Python 2.7 and scikit-learn 0.16, and can be downloaded from the [archive branch](https://github.com/justmarkham/scikit-learn-videos/tree/archive)."
      ]
    },
    {
      "cell_type": "markdown",
      "metadata": {
        "id": "KDEk0JiFZTJA"
      },
      "source": [
        "## Agenda\n",
        "\n",
        "- What is the **K-nearest neighbors** classification model?\n",
        "- What are the four steps for **model training and prediction** in scikit-learn?\n",
        "- How can I apply this pattern to **other machine learning models**?"
      ]
    },
    {
      "cell_type": "markdown",
      "metadata": {
        "id": "8j5fTUAAZTJB"
      },
      "source": [
        "## Reviewing the iris dataset"
      ]
    },
    {
      "cell_type": "code",
      "metadata": {
        "id": "naS4aVujMu0D"
      },
      "source": [
        "# from IPython.display import IFrame\n",
        "# IFrame('http://archive.ics.uci.edu/ml/machine-learning-databases/iris/iris.data', width=300, height=200)"
      ],
      "execution_count": null,
      "outputs": []
    },
    {
      "cell_type": "code",
      "metadata": {
        "id": "LE05CwAyW5Yu",
        "outputId": "4011a8ae-2857-42d1-ed3e-f0e11be2d11d",
        "colab": {
          "base_uri": "https://localhost:8080/",
          "height": 340
        }
      },
      "source": [
        "import requests\n",
        "lst_lins_iris = requests.get('http://archive.ics.uci.edu/ml/machine-learning-databases/iris/iris.data').text.strip('\\n').split('\\n')\n",
        "print(f'qtd linhas = {len(lst_lins_iris)}\\n')\n",
        "print('\\n'.join(lst_lins_iris[:5] + ['...'] + lst_lins_iris[50:55] + ['...'] + lst_lins_iris[-5:]))"
      ],
      "execution_count": null,
      "outputs": [
        {
          "output_type": "stream",
          "text": [
            "qtd linhas = 150\n",
            "\n",
            "5.1,3.5,1.4,0.2,Iris-setosa\n",
            "4.9,3.0,1.4,0.2,Iris-setosa\n",
            "4.7,3.2,1.3,0.2,Iris-setosa\n",
            "4.6,3.1,1.5,0.2,Iris-setosa\n",
            "5.0,3.6,1.4,0.2,Iris-setosa\n",
            "...\n",
            "7.0,3.2,4.7,1.4,Iris-versicolor\n",
            "6.4,3.2,4.5,1.5,Iris-versicolor\n",
            "6.9,3.1,4.9,1.5,Iris-versicolor\n",
            "5.5,2.3,4.0,1.3,Iris-versicolor\n",
            "6.5,2.8,4.6,1.5,Iris-versicolor\n",
            "...\n",
            "6.7,3.0,5.2,2.3,Iris-virginica\n",
            "6.3,2.5,5.0,1.9,Iris-virginica\n",
            "6.5,3.0,5.2,2.0,Iris-virginica\n",
            "6.2,3.4,5.4,2.3,Iris-virginica\n",
            "5.9,3.0,5.1,1.8,Iris-virginica\n"
          ],
          "name": "stdout"
        }
      ]
    },
    {
      "cell_type": "markdown",
      "metadata": {
        "id": "C-Ibq5KwZTJK"
      },
      "source": [
        "- 150 **observations**\n",
        "- 4 **features** (sepal length, sepal width, petal length, petal width)\n",
        "- **Response** variable is the iris species\n",
        "- **Classification** problem since response is categorical\n",
        "- More information in the [UCI Machine Learning Repository](http://archive.ics.uci.edu/ml/datasets/Iris)"
      ]
    },
    {
      "cell_type": "markdown",
      "metadata": {
        "id": "-lbWszSfZTJL"
      },
      "source": [
        "## K-nearest neighbors (KNN) classification"
      ]
    },
    {
      "cell_type": "markdown",
      "metadata": {
        "id": "B-OVFSJ5ZTJL"
      },
      "source": [
        "1. Pick a value for K.\n",
        "2. Search for the K observations in the training data that are \"nearest\" to the measurements of the unknown iris.\n",
        "3. Use the most popular response value from the K nearest neighbors as the predicted response value for the unknown iris."
      ]
    },
    {
      "cell_type": "markdown",
      "metadata": {
        "id": "cAOYgXiiZTJN"
      },
      "source": [
        "### Example training data\n",
        "\n",
        "![Training data](https://github.com/cristianopoeta/scikit-learn-videos/blob/master/images/04_knn_dataset.png?raw=1)"
      ]
    },
    {
      "cell_type": "markdown",
      "metadata": {
        "id": "TPpk_qksZTJO"
      },
      "source": [
        "### KNN classification map (K=1)\n",
        "\n",
        "![1NN classification map](https://github.com/cristianopoeta/scikit-learn-videos/blob/master/images/04_1nn_map.png?raw=1)"
      ]
    },
    {
      "cell_type": "markdown",
      "metadata": {
        "id": "fMvA8fZCZTJP"
      },
      "source": [
        "### KNN classification map (K=5)\n",
        "\n",
        "![5NN classification map](https://github.com/cristianopoeta/scikit-learn-videos/blob/master/images/04_5nn_map.png?raw=1)"
      ]
    },
    {
      "cell_type": "markdown",
      "metadata": {
        "id": "_gJFBxSFZTJQ"
      },
      "source": [
        "*Image Credits: [Data3classes](http://commons.wikimedia.org/wiki/File:Data3classes.png#/media/File:Data3classes.png), [Map1NN](http://commons.wikimedia.org/wiki/File:Map1NN.png#/media/File:Map1NN.png), [Map5NN](http://commons.wikimedia.org/wiki/File:Map5NN.png#/media/File:Map5NN.png) by Agor153. Licensed under CC BY-SA 3.0*"
      ]
    },
    {
      "cell_type": "markdown",
      "metadata": {
        "id": "ufyC-7WuZTJR"
      },
      "source": [
        "## Loading the data"
      ]
    },
    {
      "cell_type": "code",
      "metadata": {
        "id": "6d7ZMECnZTJS"
      },
      "source": [
        "# import load_iris function from datasets module\n",
        "from sklearn.datasets import load_iris\n",
        "\n",
        "# save \"bunch\" object containing iris dataset and its attributes\n",
        "iris = load_iris()\n",
        "\n",
        "# store feature matrix in \"X\"\n",
        "X = iris.data\n",
        "\n",
        "# store response vector in \"y\"\n",
        "y = iris.target"
      ],
      "execution_count": null,
      "outputs": []
    },
    {
      "cell_type": "code",
      "metadata": {
        "id": "EhWS7vy2ZTJW",
        "outputId": "826c85c9-0c24-4a69-eac9-fc27c0ee0347",
        "colab": {
          "base_uri": "https://localhost:8080/",
          "height": 51
        }
      },
      "source": [
        "# print the shapes of X and y\n",
        "print(X.shape)\n",
        "print(y.shape)"
      ],
      "execution_count": null,
      "outputs": [
        {
          "output_type": "stream",
          "text": [
            "(150, 4)\n",
            "(150,)\n"
          ],
          "name": "stdout"
        }
      ]
    },
    {
      "cell_type": "markdown",
      "metadata": {
        "id": "GvHcadWrZTJe"
      },
      "source": [
        "## scikit-learn 4-step modeling pattern"
      ]
    },
    {
      "cell_type": "markdown",
      "metadata": {
        "id": "OC4LdOZcZTJf"
      },
      "source": [
        "**Step 1:** Import the class you plan to use"
      ]
    },
    {
      "cell_type": "code",
      "metadata": {
        "id": "L_nTIwo2ZTJg"
      },
      "source": [
        "from sklearn.neighbors import KNeighborsClassifier"
      ],
      "execution_count": null,
      "outputs": []
    },
    {
      "cell_type": "markdown",
      "metadata": {
        "id": "gCEu5hCuZTJk"
      },
      "source": [
        "**Step 2:** \"Instantiate\" the \"estimator\"\n",
        "\n",
        "- \"Estimator\" is scikit-learn's term for model\n",
        "- \"Instantiate\" means \"make an instance of\""
      ]
    },
    {
      "cell_type": "code",
      "metadata": {
        "id": "paq7EmuxZTJl"
      },
      "source": [
        "knn = KNeighborsClassifier(n_neighbors=1)"
      ],
      "execution_count": null,
      "outputs": []
    },
    {
      "cell_type": "markdown",
      "metadata": {
        "id": "J5WSjc8cZTJr"
      },
      "source": [
        "- Name of the object does not matter\n",
        "- Can specify tuning parameters (aka \"hyperparameters\") during this step\n",
        "- All parameters not specified are set to their defaults"
      ]
    },
    {
      "cell_type": "code",
      "metadata": {
        "id": "XCR7xx4wZTJr",
        "outputId": "b37a2e94-4f8e-431f-c75d-6a4d8eaa4dad",
        "colab": {
          "base_uri": "https://localhost:8080/",
          "height": 68
        }
      },
      "source": [
        "print(knn)"
      ],
      "execution_count": null,
      "outputs": [
        {
          "output_type": "stream",
          "text": [
            "KNeighborsClassifier(algorithm='auto', leaf_size=30, metric='minkowski',\n",
            "                     metric_params=None, n_jobs=None, n_neighbors=1, p=2,\n",
            "                     weights='uniform')\n"
          ],
          "name": "stdout"
        }
      ]
    },
    {
      "cell_type": "code",
      "metadata": {
        "id": "Qn3xmDTma9-a",
        "outputId": "2006da95-165b-48be-9450-3f9bb55231fd",
        "colab": {
          "base_uri": "https://localhost:8080/",
          "height": 34
        }
      },
      "source": [
        "# cpt\n",
        "[nome for nome in dir(knn) if nome[-1]=='_' and nome [-2:]!='__']"
      ],
      "execution_count": null,
      "outputs": [
        {
          "output_type": "execute_result",
          "data": {
            "text/plain": [
              "[]"
            ]
          },
          "metadata": {
            "tags": []
          },
          "execution_count": 8
        }
      ]
    },
    {
      "cell_type": "markdown",
      "metadata": {
        "id": "UE6KSICfZTJx"
      },
      "source": [
        "**Step 3:** Fit the model with data (aka \"model training\")\n",
        "\n",
        "- Model is learning the relationship between X and y\n",
        "- Occurs in-place"
      ]
    },
    {
      "cell_type": "code",
      "metadata": {
        "id": "n4mgnHgEZTJy",
        "outputId": "5c85cd61-1c2f-4f5e-e621-a1956bb4d8b3",
        "colab": {
          "base_uri": "https://localhost:8080/",
          "height": 68
        }
      },
      "source": [
        "knn.fit(X, y)"
      ],
      "execution_count": null,
      "outputs": [
        {
          "output_type": "execute_result",
          "data": {
            "text/plain": [
              "KNeighborsClassifier(algorithm='auto', leaf_size=30, metric='minkowski',\n",
              "                     metric_params=None, n_jobs=None, n_neighbors=1, p=2,\n",
              "                     weights='uniform')"
            ]
          },
          "metadata": {
            "tags": []
          },
          "execution_count": 9
        }
      ]
    },
    {
      "cell_type": "code",
      "metadata": {
        "id": "mesl27E3bivS",
        "outputId": "a289da75-8903-46fc-aa0a-8edc96c2dbc3",
        "colab": {
          "base_uri": "https://localhost:8080/",
          "height": 102
        }
      },
      "source": [
        "# cpt\n",
        "[nome for nome in dir(knn) if nome[-1]=='_' and nome [-2:]!='__']"
      ],
      "execution_count": null,
      "outputs": [
        {
          "output_type": "execute_result",
          "data": {
            "text/plain": [
              "['classes_',\n",
              " 'effective_metric_',\n",
              " 'effective_metric_params_',\n",
              " 'n_samples_fit_',\n",
              " 'outputs_2d_']"
            ]
          },
          "metadata": {
            "tags": []
          },
          "execution_count": 10
        }
      ]
    },
    {
      "cell_type": "markdown",
      "metadata": {
        "id": "l1c6TLSlZTJ2"
      },
      "source": [
        "**Step 4:** Predict the response for a new observation\n",
        "\n",
        "- New observations are called \"out-of-sample\" data\n",
        "- Uses the information it learned during the model training process"
      ]
    },
    {
      "cell_type": "code",
      "metadata": {
        "id": "6kYBKMsmZTJ2",
        "outputId": "4e7537ca-27f4-4d72-e00e-c1f54bee8f7c",
        "colab": {
          "base_uri": "https://localhost:8080/",
          "height": 34
        }
      },
      "source": [
        "knn.predict([[3, 5, 4, 2]])"
      ],
      "execution_count": null,
      "outputs": [
        {
          "output_type": "execute_result",
          "data": {
            "text/plain": [
              "array([2])"
            ]
          },
          "metadata": {
            "tags": []
          },
          "execution_count": 11
        }
      ]
    },
    {
      "cell_type": "markdown",
      "metadata": {
        "id": "me0DTWxWZTJ6"
      },
      "source": [
        "- Returns a NumPy array\n",
        "- Can predict for multiple observations at once"
      ]
    },
    {
      "cell_type": "code",
      "metadata": {
        "id": "vTkIpMjqZTJ7",
        "outputId": "307df6ce-1b59-46ce-9800-999de16fecd2",
        "colab": {
          "base_uri": "https://localhost:8080/",
          "height": 34
        }
      },
      "source": [
        "X_new = [[3, 5, 4, 2], [5, 4, 3, 2]]\n",
        "knn.predict(X_new)"
      ],
      "execution_count": null,
      "outputs": [
        {
          "output_type": "execute_result",
          "data": {
            "text/plain": [
              "array([2, 1])"
            ]
          },
          "metadata": {
            "tags": []
          },
          "execution_count": 12
        }
      ]
    },
    {
      "cell_type": "markdown",
      "metadata": {
        "id": "PS4CxCyKZTKA"
      },
      "source": [
        "## Using a different value for K"
      ]
    },
    {
      "cell_type": "code",
      "metadata": {
        "id": "SnI675ccZTKB",
        "outputId": "19fe01e8-5ae6-46fd-995f-ecaf9667a960",
        "colab": {
          "base_uri": "https://localhost:8080/",
          "height": 34
        }
      },
      "source": [
        "# instantiate the model (using the value K=5)\n",
        "knn = KNeighborsClassifier(n_neighbors=5)\n",
        "\n",
        "# fit the model with data\n",
        "knn.fit(X, y)\n",
        "\n",
        "# predict the response for new observations\n",
        "knn.predict(X_new)"
      ],
      "execution_count": null,
      "outputs": [
        {
          "output_type": "execute_result",
          "data": {
            "text/plain": [
              "array([1, 1])"
            ]
          },
          "metadata": {
            "tags": []
          },
          "execution_count": 13
        }
      ]
    },
    {
      "cell_type": "markdown",
      "metadata": {
        "id": "NzDtgmFXZTKF"
      },
      "source": [
        "## Using a different classification model"
      ]
    },
    {
      "cell_type": "code",
      "metadata": {
        "id": "N-nqIxzUh-Mj"
      },
      "source": [
        "# cpt\n",
        "# LogisticRegression?"
      ],
      "execution_count": null,
      "outputs": []
    },
    {
      "cell_type": "code",
      "metadata": {
        "id": "qkxDRzuUZTKF",
        "outputId": "9ce53f67-a94c-4bdb-847f-e2a2db62a7d4",
        "colab": {
          "base_uri": "https://localhost:8080/",
          "height": 34
        }
      },
      "source": [
        "# import the class\n",
        "from sklearn.linear_model import LogisticRegression\n",
        "\n",
        "# instantiate the model (using the default parameters)\n",
        "logreg = LogisticRegression(max_iter=1000, solver = 'liblinear')\n",
        "\n",
        "# fit the model with data\n",
        "logreg.fit(X, y)\n",
        "\n",
        "# predict the response for new observations\n",
        "logreg.predict(X_new)"
      ],
      "execution_count": null,
      "outputs": [
        {
          "output_type": "execute_result",
          "data": {
            "text/plain": [
              "array([2, 0])"
            ]
          },
          "metadata": {
            "tags": []
          },
          "execution_count": 15
        }
      ]
    },
    {
      "cell_type": "code",
      "metadata": {
        "id": "FuH2qzGM_HXG",
        "outputId": "79224045-675e-45af-9c4c-7daaec241aa8",
        "colab": {
          "base_uri": "https://localhost:8080/",
          "height": 34
        }
      },
      "source": [
        "# import the class\n",
        "from sklearn.linear_model import LogisticRegression\n",
        "\n",
        "# instantiate the model (using the default parameters)\n",
        "logreg = LogisticRegression(max_iter=10000)\n",
        "\n",
        "# fit the model with data\n",
        "logreg.fit(X, y)\n",
        "\n",
        "# predict the response for new observations\n",
        "logreg.predict(X_new)"
      ],
      "execution_count": null,
      "outputs": [
        {
          "output_type": "execute_result",
          "data": {
            "text/plain": [
              "array([0, 0])"
            ]
          },
          "metadata": {
            "tags": []
          },
          "execution_count": 16
        }
      ]
    },
    {
      "cell_type": "markdown",
      "metadata": {
        "id": "WWtEiSj1ZTKJ"
      },
      "source": [
        "## Resources\n",
        "\n",
        "- [Nearest Neighbors](http://scikit-learn.org/stable/modules/neighbors.html) (user guide), [KNeighborsClassifier](http://scikit-learn.org/stable/modules/generated/sklearn.neighbors.KNeighborsClassifier.html) (class documentation)\n",
        "- [Logistic Regression](http://scikit-learn.org/stable/modules/linear_model.html#logistic-regression) (user guide), [LogisticRegression](http://scikit-learn.org/stable/modules/generated/sklearn.linear_model.LogisticRegression.html) (class documentation)\n",
        "- [Videos from An Introduction to Statistical Learning](http://www.dataschool.io/15-hours-of-expert-machine-learning-videos/)\n",
        "    - Classification Problems and K-Nearest Neighbors (Chapter 2)\n",
        "    - Introduction to Classification (Chapter 4)\n",
        "    - Logistic Regression and Maximum Likelihood (Chapter 4)"
      ]
    },
    {
      "cell_type": "markdown",
      "metadata": {
        "id": "v5hQ8CC1ZTKK"
      },
      "source": [
        "## Comments or Questions?\n",
        "\n",
        "- Email: <kevin@dataschool.io>\n",
        "- Website: http://dataschool.io\n",
        "- Twitter: [@justmarkham](https://twitter.com/justmarkham)"
      ]
    },
    {
      "cell_type": "code",
      "metadata": {
        "id": "AxDB27tUZTKK"
      },
      "source": [
        "# from IPython.core.display import HTML\n",
        "# def css_styling():\n",
        "#     styles = open(\"styles/custom.css\", \"r\").read()\n",
        "#     return HTML(styles)\n",
        "# css_styling()"
      ],
      "execution_count": null,
      "outputs": []
    }
  ]
}